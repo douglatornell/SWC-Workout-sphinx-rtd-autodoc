{
 "cells": [
  {
   "cell_type": "markdown",
   "metadata": {},
   "source": [
    "# Sphinx, Readthedocs & autodoc\n",
    "\n",
    "## EOAS Software Workout - 14-Nov-16\n",
    "### Doug Latornell <mailto:dlatornell@eoas.ubc.ca>"
   ]
  },
  {
   "cell_type": "markdown",
   "metadata": {},
   "source": [
    "## Topics\n",
    "\n",
    "* Sphinx - Tool for transforming plain text markup into HTML (and other display formats)\n",
    "* Readthedocs - Web service (https://readthedocs.org/) for hosting Sphinx docs\n",
    "  that builds HTML (and other formats) automatically upon receiving a signal from a\n",
    "  version control hosting server\n",
    "* autodoc - A Sphinx extension that extracts documentation from source code\n",
    "  and incorporates it into Sphinx docs\n",
    "* nbsphinx - A Sphinx extension that transforms a Jupyter Notebook into a Sphinx docs page"
   ]
  },
  {
   "cell_type": "markdown",
   "metadata": {},
   "source": [
    "## Workout Resources\n",
    "\n",
    "* This notebook\n",
    "* Zip file of reStructuredText, Python, and Matlab files (to save typing time)"
   ]
  },
  {
   "cell_type": "markdown",
   "metadata": {},
   "source": [
    "## Things That You Need If You Want To Type-Along\n",
    "\n",
    "```bash\n",
    "conda update conda\n",
    "conda install sphinx sphinx_rtd_theme\n",
    "\n",
    "pip install sphinxcontrib_matlabdomain nbsphinx\n",
    "```\n",
    "\n",
    "If you want to experiment with the integration between Bitbucket and Readthedocs:\n",
    "* [Mercurial](https://www.mercurial-scm.org/) installed on the machine you are working on\n",
    "* an account on https://bitbucket.org\n",
    "* an account on https://readthedocs.org"
   ]
  },
  {
   "cell_type": "markdown",
   "metadata": {},
   "source": [
    "## References\n",
    "\n",
    "* Sphinx docs\n",
    "\n",
    "* Readthedocs docs\n",
    "\n",
    "* reStructuredText primers\n",
    "\n",
    "* Brandon Rhodes's PyCon 2013 tutorial video\n",
    "\n",
    "### Extensions Covered in This Workout\n",
    "\n",
    "* autodoc\n",
    "* sphinxcontrib_matlabdomain\n",
    "* nbsphinx\n",
    "\n",
    "### Lists of Extensions\n",
    "\n",
    "* sphinx-contrib\n",
    "* curated list\n",
    "\n",
    "### Salish Sea Project\n",
    "\n",
    "* Tips for using Sphinx\n",
    "\n",
    "Source repos that you can copy markup from:\n",
    "\n",
    "* https://salishsea-meopar-docs.readthedocs.io/ source files: xxx\n",
    "* https://salishsea-meopar-tools.readthedocs.io/ source files: xxx\n",
    "* https://salishsea-nowcast.readthedocs.io/ source files: xxx"
   ]
  },
  {
   "cell_type": "markdown",
   "metadata": {},
   "source": [
    "## Sphinx\n",
    "\n",
    "* Sphinx is very similar in concept to LaTeX.\n",
    "  It transforms plain text markdown from a collection of files into a display format.\n",
    "* LaTeX is optimized for producing beautiful typeset output.\n",
    "* Sphinx is optimzed for producing beautiful, highly functional HTML output.\n",
    "* Both can produce other output formats (PDF, ePub, etc.)\n",
    "* Both facilitate:\n",
    "\n",
    "  * Cross-referencing among the collection of files that make up the \"document\"\n",
    "  * Rendering mathematics (LaTeX is probably better)\n",
    "  * Inclusion of figures\n",
    "  * Inclusion of syntax-highlighted source code (Sphinx is probably better)\n",
    "  \n",
    "* Both were designed to be extensible\n",
    "* Sphinx was created for the Python language documentation that used to be processed from text to HTML using LaTeX"
   ]
  },
  {
   "cell_type": "markdown",
   "metadata": {},
   "source": [
    "### `sphinx-quickstart`\n",
    "\n",
    "The Sphinx package provides a program called `sphinx-quickstart` that asks you a few questions\n",
    "and uses the answers to create the files and directories needed to start writing Sphinx docs\n",
    "for a project.\n",
    "At a terminal prompt:\n",
    "```bash\n",
    "mkdir sphinx-demo\n",
    "cd sphinx-demo\n",
    "sphinx-quickstart\n",
    "```\n",
    "\n",
    "```text\n",
    "Welcome to the Sphinx 1.4.8 quickstart utility.\n",
    "\n",
    "Please enter values for the following settings (just press Enter to\n",
    "accept a default value, if one is given in brackets).\n",
    "\n",
    "Enter the root path for documentation.\n",
    "> Root path for the documentation [.]: docs\n",
    "\n",
    "You have two options for placing the build directory for Sphinx output.\n",
    "Either, you use a directory \"_build\" within the root path, or you separate\n",
    "\"source\" and \"build\" directories within the root path.\n",
    "> Separate source and build directories (y/n) [n]: \n",
    "\n",
    "Inside the root directory, two more directories will be created; \"_templates\"\n",
    "for custom HTML templates and \"_static\" for custom stylesheets and other static\n",
    "files. You can enter another prefix (such as \".\") to replace the underscore.\n",
    "> Name prefix for templates and static dir [_]: \n",
    "\n",
    "The project name will occur in several places in the built documentation.\n",
    "> Project name: Sphinx Demo\n",
    "> Author name(s): Doug Latornell\n",
    "\n",
    "Sphinx has the notion of a \"version\" and a \"release\" for the\n",
    "software. Each version can have multiple releases. For example, for\n",
    "Python the version is something like 2.5 or 3.0, while the release is\n",
    "something like 2.5.1 or 3.0a1.  If you don't need this dual structure,\n",
    "just set both to the same value.\n",
    "> Project version: 0.1\n",
    "> Project release [0.1]: \n",
    "\n",
    "If the documents are to be written in a language other than English,\n",
    "you can select a language here by its language code. Sphinx will then\n",
    "translate text that it generates into that language.\n",
    "\n",
    "For a list of supported codes, see\n",
    "http://sphinx-doc.org/config.html#confval-language.\n",
    "> Project language [en]: \n",
    "\n",
    "The file name suffix for source files. Commonly, this is either \".txt\"\n",
    "or \".rst\".  Only files with this suffix are considered documents.\n",
    "> Source file suffix [.rst]: \n",
    "\n",
    "One document is special in that it is considered the top node of the\n",
    "\"contents tree\", that is, it is the root of the hierarchical structure\n",
    "of the documents. Normally, this is \"index\", but if your \"index\"\n",
    "document is a custom template, you can also set this to another filename.\n",
    "> Name of your master document (without suffix) [index]: \n",
    "\n",
    "Sphinx can also add configuration for epub output:\n",
    "> Do you want to use the epub builder (y/n) [n]: \n",
    "\n",
    "Please indicate if you want to use one of the following Sphinx extensions:\n",
    "> autodoc: automatically insert docstrings from modules (y/n) [n]: y\n",
    "> doctest: automatically test code snippets in doctest blocks (y/n) [n]: \n",
    "> intersphinx: link between Sphinx documentation of different projects (y/n) [n]: y\n",
    "> todo: write \"todo\" entries that can be shown or hidden on build (y/n) [n]: y\n",
    "> coverage: checks for documentation coverage (y/n) [n]: \n",
    "> imgmath: include math, rendered as PNG or SVG images (y/n) [n]: \n",
    "> mathjax: include math, rendered in the browser by MathJax (y/n) [n]: y\n",
    "> ifconfig: conditional inclusion of content based on config values (y/n) [n]: \n",
    "> viewcode: include links to the source code of documented Python objects (y/n) [n]: y\n",
    "> githubpages: create .nojekyll file to publish the document on GitHub pages (y/n) [n]: \n",
    "\n",
    "A Makefile and a Windows command file can be generated for you so that you\n",
    "only have to run e.g. `make html' instead of invoking sphinx-build\n",
    "directly.\n",
    "> Create Makefile? (y/n) [y]: \n",
    "> Create Windows command file? (y/n) [y]: \n",
    "\n",
    "Creating file docs/conf.py.\n",
    "Creating file docs/index.rst.\n",
    "Creating file docs/Makefile.\n",
    "Creating file docs/make.bat.\n",
    "\n",
    "Finished: An initial directory structure has been created.\n",
    "\n",
    "You should now populate your master file docs/index.rst and create other documentation\n",
    "source files. Use the Makefile to build the docs, like so:\n",
    "   make builder\n",
    "where \"builder\" is one of the supported builders, e.g. html, latex or linkcheck.\n",
    "```"
   ]
  },
  {
   "cell_type": "markdown",
   "metadata": {},
   "source": [
    "As promised,\n",
    "`sphinx-quickstart` created a `docs/` directory for us:"
   ]
  },
  {
   "cell_type": "code",
   "execution_count": 2,
   "metadata": {
    "collapsed": false
   },
   "outputs": [
    {
     "name": "stdout",
     "output_type": "stream",
     "text": [
      "\u001b[0m\u001b[01;34mdocs\u001b[0m/\r\n"
     ]
    }
   ],
   "source": [
    "ls sphinx-demo"
   ]
  },
  {
   "cell_type": "markdown",
   "metadata": {},
   "source": [
    "and that diectory contains all the files and directories necessary\n",
    "to start producing Sphinx docs for our project:"
   ]
  },
  {
   "cell_type": "code",
   "execution_count": 3,
   "metadata": {
    "collapsed": false
   },
   "outputs": [
    {
     "name": "stdout",
     "output_type": "stream",
     "text": [
      "\u001b[0m\u001b[01;34m_build\u001b[0m/  conf.py  index.rst  make.bat  Makefile  \u001b[01;34m_static\u001b[0m/  \u001b[01;34m_templates\u001b[0m/\r\n"
     ]
    }
   ],
   "source": [
    "ls sphinx-demo/docs"
   ]
  },
  {
   "cell_type": "markdown",
   "metadata": {},
   "source": [
    "### Build the Docs\n",
    "\n",
    "So, let's build the docs:\n",
    "```bash\n",
    "cd docs\n",
    "make html\n",
    "```\n",
    "\n",
    "```text\n",
    "sphinx-build -b html -d _build/doctrees   . _build/html\n",
    "Running Sphinx v1.4.8\n",
    "making output directory...\n",
    "loading pickled environment... not yet created\n",
    "loading intersphinx inventory from https://docs.python.org/objects.inv...\n",
    "intersphinx inventory has moved: https://docs.python.org/objects.inv -> https://docs.python.org/2/objects.inv\n",
    "building [mo]: targets for 0 po files that are out of date\n",
    "building [html]: targets for 1 source files that are out of date\n",
    "updating environment: 1 added, 0 changed, 0 removed\n",
    "reading sources... [100%] index                                                                                                                             \n",
    "looking for now-outdated files... none found\n",
    "pickling environment... done\n",
    "checking consistency... done\n",
    "preparing documents... done\n",
    "writing output... [100%] index                                                                                                                              \n",
    "generating indices... genindex\n",
    "writing additional pages... search\n",
    "copying static files... done\n",
    "copying extra files... done\n",
    "dumping search index in English (code: en) ... done\n",
    "dumping object inventory... done\n",
    "build succeeded.\n",
    "\n",
    "Build finished. The HTML pages are in _build/html.\n",
    "```"
   ]
  },
  {
   "cell_type": "markdown",
   "metadata": {},
   "source": [
    "### Preview the Rendered Docs\n",
    "\n",
    "To see the HTML docs that we built,\n",
    "open `_build/html/index.html` in a browser.\n",
    "You can use `File > Open File...` and navigate to the `index.html` file,\n",
    "or:\n",
    "\n",
    "On Linux you can probably do:\n",
    "```bash\n",
    "firefox _build/html/index.html\n",
    "```\n",
    "On Mac OSX try:\n",
    "```bash\n",
    "open _build/html/index.html\n",
    "```"
   ]
  },
  {
   "cell_type": "markdown",
   "metadata": {},
   "source": [
    "### A reStructuredText Source File\n",
    "\n",
    "The source file that produced `index.html` is `index.rst`:"
   ]
  },
  {
   "cell_type": "code",
   "execution_count": 4,
   "metadata": {
    "collapsed": false
   },
   "outputs": [
    {
     "name": "stdout",
     "output_type": "stream",
     "text": [
      ".. Sphinx Demo documentation master file, created by\r\n",
      "   sphinx-quickstart on Thu Nov 10 12:39:35 2016.\r\n",
      "   You can adapt this file completely to your liking, but it should at least\r\n",
      "   contain the root `toctree` directive.\r\n",
      "\r\n",
      "Welcome to Sphinx Demo's documentation!\r\n",
      "=======================================\r\n",
      "\r\n",
      "Contents:\r\n",
      "\r\n",
      ".. toctree::\r\n",
      "   :maxdepth: 2\r\n",
      "\r\n",
      "\r\n",
      "\r\n",
      "Indices and tables\r\n",
      "==================\r\n",
      "\r\n",
      "* :ref:`genindex`\r\n",
      "* :ref:`modindex`\r\n",
      "* :ref:`search`\r\n",
      "\r\n"
     ]
    }
   ],
   "source": [
    "cat sphinx-demo/docs/index.rst"
   ]
  },
  {
   "cell_type": "markdown",
   "metadata": {},
   "source": [
    "### The Sphinx Build Configuration File\n",
    "\n",
    "The `conf.py` file contains all of the configuration settings\n",
    "that told Sphinx the details of how to convert the `.rst` files in our\n",
    "project into an HTML web site.\n",
    "Most of the settings in `conf.py` have sensible default values.\n",
    "Lets talk a walk through it and change the theme of the HTML output as we do.\n",
    "\n",
    "Open `conf.py` in an editor.\n",
    "\n",
    "The configuration settings in the `conf.py` file that `sphinx-quickstart` generated\n",
    "(and many more)\n",
    "are documented in [the build configuration file](http://www.sphinx-doc.org/en/stable/config.html)\n",
    "section of the Sphinx docs.\n",
    "\n",
    "I usually delete the commented out settings that I am happy with the values of\n",
    "(those are the defaults),\n",
    "leaving only the one that I have editted.\n",
    "\n",
    "The only one that we're going to change right now is at about line 129.\n",
    "Change:\n",
    "```python\n",
    "html_theme = 'alabaster'\n",
    "```\n",
    "to\n",
    "```python\n",
    "html_theme = 'sphinx_rtd_theme'\n",
    "```\n",
    "\n",
    "We'll explore `conf.py` some more when we look at `autodoc`.\n",
    "For now,\n",
    "run\n",
    "```bash\n",
    "make html\n",
    "```\n",
    "again and refresh the `index.html` page in your browser.\n",
    "\n",
    "Now our docs look like they will when they are rendered on Readthedocs."
   ]
  },
  {
   "cell_type": "markdown",
   "metadata": {},
   "source": [
    "## Readthedocs\n",
    "\n",
    "You could copy all the files and directories in `_build/html/` to a web server\n",
    "such as your `$HOME/public_html/` space on the EOAS server,\n",
    "and your docs would be on-line for the world to see.\n",
    "But you would have to remember to:\n",
    "* build the docs every time you make changes to the `.rst` files (or `conf.py`), and\n",
    "* copy the newly built docs to the web server\n",
    "\n",
    "An alternative for projects that you are happy to make public\n",
    "is to use version control and the readthedocs.org service\n",
    "to automatically build the docs every time you commit changes.\n",
    "Readthedocs is also a very good place to host docs that you want the world to know\n",
    "about because it has excellent search engine optimization and is well regarded in\n",
    "the Google search rankings."
   ]
  },
  {
   "cell_type": "markdown",
   "metadata": {},
   "source": [
    "### Create a Public Bitbucket Repo\n",
    "\n",
    "We'll use Bitbucket,\n",
    "but you can use Github in the same way.\n",
    "Let's create a new repository on Bitbucket from the\n",
    "`Repositories > Create Repository` link in the navigation bar:\n",
    "\n",
    "![Create repo](bitbucket-create-repo.png)"
   ]
  },
  {
   "cell_type": "markdown",
   "metadata": {},
   "source": [
    "If you are using `sphinx-demo` as the name of the directory we have been working so far,\n",
    "choose a different name, like `workout-sphinx`.\n",
    "\n",
    "Ensure that `This is a private respository` **is not** checked.\n",
    "\n",
    "Ensure that `Repository type` has `Mercurial` selected.\n",
    "\n",
    "![New Repo Dialog](bitbucket-new-repo.png)\n",
    "\n",
    "Create the repository."
   ]
  },
  {
   "cell_type": "markdown",
   "metadata": {},
   "source": [
    "Expand the `I'm starting from scratch` link:\n",
    "![Starting from scratch](bitbucket-starting-from-scratch.png)\n",
    "\n",
    "and follow the instructions to clone the (empty) repo on to you local machine:\n",
    "```bash\n",
    "pwd\n",
    "```\n",
    "```text\n",
    "/home/doug/Documents/swc/workouts/14nov16-sphinx-rtd-autodoc/sphinx-demo/docs\n",
    "```\n",
    "```bash\n",
    "cd ../..\n",
    "hg clone ssh://hg@bitbucket.org/douglatornell/workout-sphinx\n",
    "```"
   ]
  },
  {
   "cell_type": "markdown",
   "metadata": {},
   "source": [
    "### Add Our Docs to the Repo\n",
    "\n",
    "Make a `docs/` directory in the new repo,\n",
    "and copy the `conf.py` and `index.rst` files into it:\n",
    "```bash\n",
    "mkdir workout-sphinx/docs\n",
    "cp sphinx-demo/docs/conf.py workout-sphinx/docs/\n",
    "cp sphinx-demo/docs/index.rst workout-sphinx/docs/\n",
    "```\n",
    "\n",
    "Tell Mercurial to track those files:\n",
    "```bash\n",
    "hg add\n",
    "```\n",
    "```text\n",
    "adding conf.py\n",
    "adding index.rst\n",
    "```\n",
    "\n",
    "Commit the files:\n",
    "```bash\n",
    "hg commit -m\"Initialize Sphinx docs for the project.\"\n",
    "```\n",
    "\n",
    "Push the commit to Bitbucket:\n",
    "```bash\n",
    "hg push\n",
    "```\n",
    "```text\n",
    "pushing to ssh://hg@bitbucket.org/douglatornell/workout-sphinx\n",
    "searching for changes\n",
    "remote: adding changesets\n",
    "remote: adding manifests\n",
    "remote: adding file changes\n",
    "remote: added 1 changesets with 2 changes to 2 files\n",
    "```"
   ]
  },
  {
   "cell_type": "markdown",
   "metadata": {},
   "source": [
    "### Import the Repo to Readthedocs"
   ]
  },
  {
   "cell_type": "markdown",
   "metadata": {},
   "source": [
    "Go to your [Readthedocs dashboard](https://readthedocs.org/dashboard/)\n",
    "and click the `Import a Project` button.\n",
    "\n",
    "Fill in the form:\n",
    "![rtd import form](rtd-import.png)\n",
    "\n",
    "Choose a unique name for your project on Readthedocs.\n",
    "\n",
    "Get the `Repository URL` from Bitbucket.\n",
    "It will be something like `https://bitbucket.org/douglatornell/workout-sphinx`.\n",
    "\n",
    "Ensure that `Repository Type` is set to `Mercurial`.\n",
    "\n",
    "Click `Next`."
   ]
  },
  {
   "cell_type": "markdown",
   "metadata": {},
   "source": [
    "The project page provides all the information about your project's state\n",
    "on Readthedocs:\n",
    "![rtd project page](rtd-project.png)\n",
    "\n",
    "The `Builds` button takes you to a page where you can see build status.\n",
    "You can drill down into a build to see the build steps in detail.\n",
    "They are a lot more complicated than our simple `make html` above,\n",
    "but that is in there.\n",
    "Build errors also show up there.\n",
    "\n",
    "The `View Docs` button takes you to the rendered docs (of course!).\n",
    "\n",
    "There are details about using Python virtual environments or conda environment\n",
    "to build your docs in that you have to deal with as things get more complicated,\n",
    "especially if you use the autodoc extension for Python modules with lots of imports.\n",
    "The set up pages for that are behind the `Admin` button,\n",
    "and documented in the Readthedocs docs.\n",
    "Send me an email,\n",
    "or come and see me if you get stuck."
   ]
  },
  {
   "cell_type": "markdown",
   "metadata": {},
   "source": [
    "### Set Up a Web Hook on Bitbucket to Signal Pushes to Readthedocs\n",
    "\n",
    "The last bit of automation work that we need to do is to set up a way\n",
    "for Bitbucket to send a signal to Readthedocs when we push commits\n",
    "so that Readthedocs will pull in those commits and re-buld the docs.\n",
    "\n",
    "Go to the `Webhooks` panel in the `Settings` of your Bitbucket repo:\n",
    "![bitbucket webhooks settings](bitbucket-webhooks.png)\n",
    "\n",
    "Click the `Add Webhook` button,\n",
    "and fill in the form:\n",
    "![bitbucket add webhook](bitbucket-add-webhook.png)\n",
    "\n",
    "Set the `Title` to something exlanatory like: `Read the Docs (readthedocs.org)`.\n",
    "\n",
    "Fill in the `URL` with `https://readthedocs.org/api/v2/webhook/bitbucket/djl-workout-sphinx/`,\n",
    "substituting the name of your Readthedocs project for the final section.\n",
    "\n",
    "Ensure that the `Status` is set to `Active`.\n",
    "\n",
    "Ensure that `Triggers` is set to `Repository push`.\n",
    "\n",
    "Save the webhook."
   ]
  },
  {
   "cell_type": "markdown",
   "metadata": {},
   "source": [
    "## autodoc Extension\n",
    "\n",
    "`autodoc` is an extension that is built into Sphinx.\n",
    "It is triggered by special markup like:\n",
    "```rst\n",
    ".. automodule:: foo.bar\n",
    "```\n",
    "When that autodoc is enabled and Sphinx see that markup it\n",
    "* imports the Python module ``bar`` from the package ``foo``\n",
    "* collects the module, class, method/function, etc. docstring in the module\n",
    "* inserts them in place of the ``automodule`` directive\n",
    "\n",
    "Sphinx then renders the docs including the docstrings,\n",
    "so if you use Sphinx markup in the docstrings, \n",
    "they get rendered beautifully too.\n",
    "\n",
    "`autodoc` is enabled by including:\n",
    "```python\n",
    "'sphinx.ext.autodoc',\n",
    "```\n",
    "in the `extensions` list in `conf.py` (about line 34).\n",
    "We made that happen when we ansered `yes` to the\n",
    "```text\n",
    "> autodoc: automatically insert docstrings from modules (y/n)\n",
    "```\n",
    "back when we ran `sphinx-quickstart`,\n",
    "but you can add it later if you forgot then or change your mind."
   ]
  },
  {
   "cell_type": "code",
   "execution_count": null,
   "metadata": {
    "collapsed": true
   },
   "outputs": [],
   "source": []
  }
 ],
 "metadata": {
  "kernelspec": {
   "display_name": "Python 3",
   "language": "python",
   "name": "python3"
  },
  "language_info": {
   "codemirror_mode": {
    "name": "ipython",
    "version": 3
   },
   "file_extension": ".py",
   "mimetype": "text/x-python",
   "name": "python",
   "nbconvert_exporter": "python",
   "pygments_lexer": "ipython3",
   "version": "3.5.2"
  }
 },
 "nbformat": 4,
 "nbformat_minor": 1
}
